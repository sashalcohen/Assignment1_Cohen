{
 "cells": [
  {
   "cell_type": "markdown",
   "id": "8254fbe3",
   "metadata": {},
   "source": [
    "## Import Pandas and matplotlib in order to analyze state data on cannabis licensing"
   ]
  },
  {
   "cell_type": "code",
   "execution_count": 9,
   "id": "9db7dcef",
   "metadata": {
    "scrolled": true
   },
   "outputs": [
    {
     "name": "stdout",
     "output_type": "stream",
     "text": [
      "Requirement already satisfied: matplotlib in /Users/sashacohen/anaconda3/lib/python3.11/site-packages (3.7.2)\n",
      "Requirement already satisfied: contourpy>=1.0.1 in /Users/sashacohen/anaconda3/lib/python3.11/site-packages (from matplotlib) (1.0.5)\n",
      "Requirement already satisfied: cycler>=0.10 in /Users/sashacohen/anaconda3/lib/python3.11/site-packages (from matplotlib) (0.11.0)\n",
      "Requirement already satisfied: fonttools>=4.22.0 in /Users/sashacohen/anaconda3/lib/python3.11/site-packages (from matplotlib) (4.25.0)\n",
      "Requirement already satisfied: kiwisolver>=1.0.1 in /Users/sashacohen/anaconda3/lib/python3.11/site-packages (from matplotlib) (1.4.4)\n",
      "Requirement already satisfied: numpy>=1.20 in /Users/sashacohen/anaconda3/lib/python3.11/site-packages (from matplotlib) (1.24.3)\n",
      "Requirement already satisfied: packaging>=20.0 in /Users/sashacohen/anaconda3/lib/python3.11/site-packages (from matplotlib) (23.1)\n",
      "Requirement already satisfied: pillow>=6.2.0 in /Users/sashacohen/anaconda3/lib/python3.11/site-packages (from matplotlib) (10.0.1)\n",
      "Requirement already satisfied: pyparsing<3.1,>=2.3.1 in /Users/sashacohen/anaconda3/lib/python3.11/site-packages (from matplotlib) (3.0.9)\n",
      "Requirement already satisfied: python-dateutil>=2.7 in /Users/sashacohen/anaconda3/lib/python3.11/site-packages (from matplotlib) (2.8.2)\n",
      "Requirement already satisfied: six>=1.5 in /Users/sashacohen/anaconda3/lib/python3.11/site-packages (from python-dateutil>=2.7->matplotlib) (1.16.0)\n"
     ]
    }
   ],
   "source": [
    "\n",
    "\n",
    "!pip install matplotlib\n",
    "\n",
    "import pandas as pd\n",
    "import matplotlib.pyplot as plt"
   ]
  },
  {
   "cell_type": "markdown",
   "id": "41d8038d",
   "metadata": {},
   "source": [
    "#### Import CSV file containing all licensed cannabis retailers and handlers, as well as applicants who have obtained proximity protection. Make python read the \"Issued Date\" as a datetime instead of an object. "
   ]
  },
  {
   "cell_type": "code",
   "execution_count": 32,
   "id": "446e7d05",
   "metadata": {},
   "outputs": [
    {
     "name": "stderr",
     "output_type": "stream",
     "text": [
      "/var/folders/k7/0c943ysn1rxb3chh64qv_8wh0000gn/T/ipykernel_64526/1286382921.py:5: UserWarning: Could not infer format, so each element will be parsed individually, falling back to `dateutil`. To ensure parsing is consistent and as-expected, please specify a format.\n",
      "  df = pd.read_csv(\"../data/Current_OCM_Licenses_20241024.csv\", parse_dates=[\"Issued Date\"])\n"
     ]
    }
   ],
   "source": [
    "df = pd.read_csv(\"../data/Current_OCM_Licenses_20241024.csv\", parse_dates=[\"Issued Date\"])"
   ]
  },
  {
   "cell_type": "code",
   "execution_count": 66,
   "id": "3bb5d054",
   "metadata": {},
   "outputs": [
    {
     "data": {
      "text/html": [
       "<div>\n",
       "<style scoped>\n",
       "    .dataframe tbody tr th:only-of-type {\n",
       "        vertical-align: middle;\n",
       "    }\n",
       "\n",
       "    .dataframe tbody tr th {\n",
       "        vertical-align: top;\n",
       "    }\n",
       "\n",
       "    .dataframe thead th {\n",
       "        text-align: right;\n",
       "    }\n",
       "</style>\n",
       "<table border=\"1\" class=\"dataframe\">\n",
       "  <thead>\n",
       "    <tr style=\"text-align: right;\">\n",
       "      <th></th>\n",
       "      <th>License Number</th>\n",
       "      <th>License Type</th>\n",
       "      <th>License Type Code</th>\n",
       "      <th>License Status</th>\n",
       "      <th>License Status Code</th>\n",
       "      <th>Issued Date</th>\n",
       "      <th>Effective Date</th>\n",
       "      <th>Expiration Date</th>\n",
       "      <th>Application Number</th>\n",
       "      <th>SEE Category</th>\n",
       "      <th>...</th>\n",
       "      <th>Processing Activities Extraction</th>\n",
       "      <th>Processing Activities Blending and Infusing</th>\n",
       "      <th>Processing Activities Packaging and Labeling</th>\n",
       "      <th>Processing Activities Branding</th>\n",
       "      <th>Retail Activities Sales with Delivery</th>\n",
       "      <th>Retail Activities Sales No Delivery</th>\n",
       "      <th>Retail Activities Non-Cannabis Products</th>\n",
       "      <th>Retail Activities Drive Thru</th>\n",
       "      <th>Retail Date Opened to Public</th>\n",
       "      <th>Primary Contact Name</th>\n",
       "    </tr>\n",
       "  </thead>\n",
       "  <tbody>\n",
       "    <tr>\n",
       "      <th>0</th>\n",
       "      <td>OCM-PROC-24-000096</td>\n",
       "      <td>Adult-Use Processor License</td>\n",
       "      <td>OCMPROC</td>\n",
       "      <td>Active</td>\n",
       "      <td>LICACT</td>\n",
       "      <td>2024-09-12</td>\n",
       "      <td>09/12/2024 12:00:00 AM</td>\n",
       "      <td>09/12/2026 12:00:00 AM</td>\n",
       "      <td>OCMPROC-2023-000306</td>\n",
       "      <td>Women-Owned Business</td>\n",
       "      <td>...</td>\n",
       "      <td>0.0</td>\n",
       "      <td>0.0</td>\n",
       "      <td>0.0</td>\n",
       "      <td>1.0</td>\n",
       "      <td>0.0</td>\n",
       "      <td>0.0</td>\n",
       "      <td>0.0</td>\n",
       "      <td>0.0</td>\n",
       "      <td>NaN</td>\n",
       "      <td>Lori Gronman</td>\n",
       "    </tr>\n",
       "    <tr>\n",
       "      <th>1</th>\n",
       "      <td>OCM-RETL-24-000123</td>\n",
       "      <td>Adult-Use Retail Dispensary License</td>\n",
       "      <td>OCMRETL</td>\n",
       "      <td>Active</td>\n",
       "      <td>LICACT</td>\n",
       "      <td>2024-07-10</td>\n",
       "      <td>07/10/2024 12:00:00 AM</td>\n",
       "      <td>07/10/2026 12:00:00 AM</td>\n",
       "      <td>OCMRETL-2023-001433</td>\n",
       "      <td>NaN</td>\n",
       "      <td>...</td>\n",
       "      <td>0.0</td>\n",
       "      <td>0.0</td>\n",
       "      <td>0.0</td>\n",
       "      <td>0.0</td>\n",
       "      <td>1.0</td>\n",
       "      <td>0.0</td>\n",
       "      <td>0.0</td>\n",
       "      <td>0.0</td>\n",
       "      <td>NaN</td>\n",
       "      <td>Jon-Eric Aben</td>\n",
       "    </tr>\n",
       "    <tr>\n",
       "      <th>2</th>\n",
       "      <td>NaN</td>\n",
       "      <td>Adult-Use Retail Dispensary License</td>\n",
       "      <td>OCMRETL</td>\n",
       "      <td>In-Process</td>\n",
       "      <td>Pending</td>\n",
       "      <td>NaT</td>\n",
       "      <td>NaN</td>\n",
       "      <td>NaN</td>\n",
       "      <td>OCMRETL-2023-001318</td>\n",
       "      <td>NaN</td>\n",
       "      <td>...</td>\n",
       "      <td>0.0</td>\n",
       "      <td>0.0</td>\n",
       "      <td>0.0</td>\n",
       "      <td>0.0</td>\n",
       "      <td>1.0</td>\n",
       "      <td>0.0</td>\n",
       "      <td>0.0</td>\n",
       "      <td>0.0</td>\n",
       "      <td>NaN</td>\n",
       "      <td>Avie Li</td>\n",
       "    </tr>\n",
       "    <tr>\n",
       "      <th>3</th>\n",
       "      <td>OCM-CAURD-24-000177</td>\n",
       "      <td>Conditional Adult-Use Retail Dispensary License</td>\n",
       "      <td>OCMCAURD22</td>\n",
       "      <td>Active</td>\n",
       "      <td>LICACT</td>\n",
       "      <td>2024-08-02</td>\n",
       "      <td>08/02/2024 12:00:00 AM</td>\n",
       "      <td>08/02/2026 12:00:00 AM</td>\n",
       "      <td>OCMCAURDP-2023-000228</td>\n",
       "      <td>NaN</td>\n",
       "      <td>...</td>\n",
       "      <td>NaN</td>\n",
       "      <td>NaN</td>\n",
       "      <td>NaN</td>\n",
       "      <td>NaN</td>\n",
       "      <td>NaN</td>\n",
       "      <td>NaN</td>\n",
       "      <td>NaN</td>\n",
       "      <td>NaN</td>\n",
       "      <td>NaN</td>\n",
       "      <td>John Guercia</td>\n",
       "    </tr>\n",
       "    <tr>\n",
       "      <th>4</th>\n",
       "      <td>NaN</td>\n",
       "      <td>Adult-Use Retail Dispensary License</td>\n",
       "      <td>OCMRETL</td>\n",
       "      <td>In-Process</td>\n",
       "      <td>Pending</td>\n",
       "      <td>NaT</td>\n",
       "      <td>NaN</td>\n",
       "      <td>NaN</td>\n",
       "      <td>OCMRETL-2023-001114</td>\n",
       "      <td>NaN</td>\n",
       "      <td>...</td>\n",
       "      <td>0.0</td>\n",
       "      <td>0.0</td>\n",
       "      <td>0.0</td>\n",
       "      <td>0.0</td>\n",
       "      <td>1.0</td>\n",
       "      <td>0.0</td>\n",
       "      <td>1.0</td>\n",
       "      <td>0.0</td>\n",
       "      <td>NaN</td>\n",
       "      <td>Prashant Parikh</td>\n",
       "    </tr>\n",
       "  </tbody>\n",
       "</table>\n",
       "<p>5 rows × 45 columns</p>\n",
       "</div>"
      ],
      "text/plain": [
       "        License Number                                     License Type  \\\n",
       "0   OCM-PROC-24-000096                      Adult-Use Processor License   \n",
       "1   OCM-RETL-24-000123              Adult-Use Retail Dispensary License   \n",
       "2                  NaN              Adult-Use Retail Dispensary License   \n",
       "3  OCM-CAURD-24-000177  Conditional Adult-Use Retail Dispensary License   \n",
       "4                  NaN              Adult-Use Retail Dispensary License   \n",
       "\n",
       "  License Type Code License Status License Status Code Issued Date  \\\n",
       "0           OCMPROC         Active              LICACT  2024-09-12   \n",
       "1           OCMRETL         Active              LICACT  2024-07-10   \n",
       "2           OCMRETL     In-Process             Pending         NaT   \n",
       "3        OCMCAURD22         Active              LICACT  2024-08-02   \n",
       "4           OCMRETL     In-Process             Pending         NaT   \n",
       "\n",
       "           Effective Date         Expiration Date     Application Number  \\\n",
       "0  09/12/2024 12:00:00 AM  09/12/2026 12:00:00 AM    OCMPROC-2023-000306   \n",
       "1  07/10/2024 12:00:00 AM  07/10/2026 12:00:00 AM    OCMRETL-2023-001433   \n",
       "2                     NaN                     NaN    OCMRETL-2023-001318   \n",
       "3  08/02/2024 12:00:00 AM  08/02/2026 12:00:00 AM  OCMCAURDP-2023-000228   \n",
       "4                     NaN                     NaN    OCMRETL-2023-001114   \n",
       "\n",
       "           SEE Category  ... Processing Activities Extraction  \\\n",
       "0  Women-Owned Business  ...                              0.0   \n",
       "1                   NaN  ...                              0.0   \n",
       "2                   NaN  ...                              0.0   \n",
       "3                   NaN  ...                              NaN   \n",
       "4                   NaN  ...                              0.0   \n",
       "\n",
       "  Processing Activities Blending and Infusing  \\\n",
       "0                                         0.0   \n",
       "1                                         0.0   \n",
       "2                                         0.0   \n",
       "3                                         NaN   \n",
       "4                                         0.0   \n",
       "\n",
       "  Processing Activities Packaging and Labeling Processing Activities Branding  \\\n",
       "0                                          0.0                            1.0   \n",
       "1                                          0.0                            0.0   \n",
       "2                                          0.0                            0.0   \n",
       "3                                          NaN                            NaN   \n",
       "4                                          0.0                            0.0   \n",
       "\n",
       "  Retail Activities Sales with Delivery Retail Activities Sales No Delivery  \\\n",
       "0                                   0.0                                 0.0   \n",
       "1                                   1.0                                 0.0   \n",
       "2                                   1.0                                 0.0   \n",
       "3                                   NaN                                 NaN   \n",
       "4                                   1.0                                 0.0   \n",
       "\n",
       "  Retail Activities Non-Cannabis Products  Retail Activities Drive Thru  \\\n",
       "0                                     0.0                           0.0   \n",
       "1                                     0.0                           0.0   \n",
       "2                                     0.0                           0.0   \n",
       "3                                     NaN                           NaN   \n",
       "4                                     1.0                           0.0   \n",
       "\n",
       "  Retail Date Opened to Public Primary Contact Name  \n",
       "0                          NaN         Lori Gronman  \n",
       "1                          NaN        Jon-Eric Aben  \n",
       "2                          NaN              Avie Li  \n",
       "3                          NaN         John Guercia  \n",
       "4                          NaN      Prashant Parikh  \n",
       "\n",
       "[5 rows x 45 columns]"
      ]
     },
     "execution_count": 66,
     "metadata": {},
     "output_type": "execute_result"
    }
   ],
   "source": [
    "df.head(5)"
   ]
  },
  {
   "cell_type": "markdown",
   "id": "663697d3",
   "metadata": {},
   "source": [
    "#### Pull the names of all columns in the CSV file to determine how I want to narrow it down"
   ]
  },
  {
   "cell_type": "code",
   "execution_count": 37,
   "id": "efa0b70c",
   "metadata": {},
   "outputs": [
    {
     "data": {
      "text/plain": [
       "Index(['License Number', 'License Type', 'License Type Code', 'License Status',\n",
       "       'License Status Code', 'Issued Date', 'Effective Date',\n",
       "       'Expiration Date', 'Application Number', 'SEE Category', 'Entity Name',\n",
       "       'DBA', 'Location ID', 'Address Line 1', 'Address Line 2', 'City',\n",
       "       'State', 'Zip Code', 'County', 'Region', 'Latitude', 'Longitude',\n",
       "       'Business Website', 'Operational Status', 'Business Purpose',\n",
       "       'Tier Type', 'Processor Type', 'Cultivation Indoor',\n",
       "       'Cultivation Outdoor', 'Cultivation Mixed Light',\n",
       "       'Cultivation Combination', 'Cultivation Activities Drying Curing',\n",
       "       'Cultivation Activities Storage', 'Cultivation Activities Packaging',\n",
       "       'Cultivation Activities Waste Rendering',\n",
       "       'Processing Activities Extraction',\n",
       "       'Processing Activities Blending and Infusing',\n",
       "       'Processing Activities Packaging and Labeling',\n",
       "       'Processing Activities Branding',\n",
       "       'Retail Activities Sales with Delivery',\n",
       "       'Retail Activities Sales No Delivery',\n",
       "       'Retail Activities Non-Cannabis Products',\n",
       "       'Retail Activities Drive Thru', 'Retail Date Opened to Public',\n",
       "       'Primary Contact Name'],\n",
       "      dtype='object')"
      ]
     },
     "execution_count": 37,
     "metadata": {},
     "output_type": "execute_result"
    }
   ],
   "source": [
    "df.columns"
   ]
  },
  {
   "cell_type": "markdown",
   "id": "4a1c1800",
   "metadata": {},
   "source": [
    "#### Determine the number of each type of license has been issued as of 10/24/2024"
   ]
  },
  {
   "cell_type": "code",
   "execution_count": 38,
   "id": "f010470c",
   "metadata": {},
   "outputs": [
    {
     "data": {
      "text/plain": [
       "License Type\n",
       "Adult-Use Retail Dispensary License                     508\n",
       "Conditional Adult-Use Retail Dispensary License         316\n",
       "Adult-Use Microbusiness License                         307\n",
       "Adult-Use Processor License                             298\n",
       "Adult-Use Cultivator License                            246\n",
       "Adult-Use Distributor License                           167\n",
       "Registered Organization                                  26\n",
       "Adult-Use Registered Organization Dispensary License     17\n",
       "Name: count, dtype: int64"
      ]
     },
     "execution_count": 38,
     "metadata": {},
     "output_type": "execute_result"
    }
   ],
   "source": [
    "df[\"License Type\"].value_counts()"
   ]
  },
  {
   "cell_type": "markdown",
   "id": "267751fb",
   "metadata": {},
   "source": [
    "#### Create a new filtered dataframe with the columns I want to use for my analysis: License Type and Issued Date"
   ]
  },
  {
   "cell_type": "code",
   "execution_count": 39,
   "id": "c530cf52",
   "metadata": {},
   "outputs": [],
   "source": [
    "dfa = df[[\"License Type\",\"Issued Date\"]]"
   ]
  },
  {
   "cell_type": "code",
   "execution_count": 40,
   "id": "74f0814b",
   "metadata": {},
   "outputs": [
    {
     "data": {
      "text/html": [
       "<div>\n",
       "<style scoped>\n",
       "    .dataframe tbody tr th:only-of-type {\n",
       "        vertical-align: middle;\n",
       "    }\n",
       "\n",
       "    .dataframe tbody tr th {\n",
       "        vertical-align: top;\n",
       "    }\n",
       "\n",
       "    .dataframe thead th {\n",
       "        text-align: right;\n",
       "    }\n",
       "</style>\n",
       "<table border=\"1\" class=\"dataframe\">\n",
       "  <thead>\n",
       "    <tr style=\"text-align: right;\">\n",
       "      <th></th>\n",
       "      <th>License Type</th>\n",
       "      <th>Issued Date</th>\n",
       "    </tr>\n",
       "  </thead>\n",
       "  <tbody>\n",
       "    <tr>\n",
       "      <th>0</th>\n",
       "      <td>Adult-Use Processor License</td>\n",
       "      <td>2024-09-12</td>\n",
       "    </tr>\n",
       "    <tr>\n",
       "      <th>1</th>\n",
       "      <td>Adult-Use Retail Dispensary License</td>\n",
       "      <td>2024-07-10</td>\n",
       "    </tr>\n",
       "    <tr>\n",
       "      <th>2</th>\n",
       "      <td>Adult-Use Retail Dispensary License</td>\n",
       "      <td>NaT</td>\n",
       "    </tr>\n",
       "    <tr>\n",
       "      <th>3</th>\n",
       "      <td>Conditional Adult-Use Retail Dispensary License</td>\n",
       "      <td>2024-08-02</td>\n",
       "    </tr>\n",
       "    <tr>\n",
       "      <th>4</th>\n",
       "      <td>Adult-Use Retail Dispensary License</td>\n",
       "      <td>NaT</td>\n",
       "    </tr>\n",
       "  </tbody>\n",
       "</table>\n",
       "</div>"
      ],
      "text/plain": [
       "                                      License Type Issued Date\n",
       "0                      Adult-Use Processor License  2024-09-12\n",
       "1              Adult-Use Retail Dispensary License  2024-07-10\n",
       "2              Adult-Use Retail Dispensary License         NaT\n",
       "3  Conditional Adult-Use Retail Dispensary License  2024-08-02\n",
       "4              Adult-Use Retail Dispensary License         NaT"
      ]
     },
     "execution_count": 40,
     "metadata": {},
     "output_type": "execute_result"
    }
   ],
   "source": [
    "dfa.head()"
   ]
  },
  {
   "cell_type": "markdown",
   "id": "f9ad5567",
   "metadata": {},
   "source": [
    "#### Remove all nulltypes from \"Issued Date\" so my data includes only licenses that have already been issued"
   ]
  },
  {
   "cell_type": "code",
   "execution_count": 41,
   "id": "6cfe19b9",
   "metadata": {},
   "outputs": [],
   "source": [
    "df1 = dfa.loc[lambda x: ~x[\"Issued Date\"].isnull()].copy()"
   ]
  },
  {
   "cell_type": "markdown",
   "id": "20dcd0f0",
   "metadata": {},
   "source": [
    "#### Reclassify the license types into two categories: CAURD and non-CAURD"
   ]
  },
  {
   "cell_type": "code",
   "execution_count": 42,
   "id": "697abe8f",
   "metadata": {},
   "outputs": [],
   "source": [
    "df1[\"is_caurd\"]= df1[\"License Type\"].apply(lambda x: \"CAURD\" if x == \"Conditional Adult-Use Retail Dispensary License\" else \"Non-CAURD\")"
   ]
  },
  {
   "cell_type": "code",
   "execution_count": 43,
   "id": "dadf3e21",
   "metadata": {},
   "outputs": [
    {
     "data": {
      "text/html": [
       "<div>\n",
       "<style scoped>\n",
       "    .dataframe tbody tr th:only-of-type {\n",
       "        vertical-align: middle;\n",
       "    }\n",
       "\n",
       "    .dataframe tbody tr th {\n",
       "        vertical-align: top;\n",
       "    }\n",
       "\n",
       "    .dataframe thead th {\n",
       "        text-align: right;\n",
       "    }\n",
       "</style>\n",
       "<table border=\"1\" class=\"dataframe\">\n",
       "  <thead>\n",
       "    <tr style=\"text-align: right;\">\n",
       "      <th></th>\n",
       "      <th>License Type</th>\n",
       "      <th>Issued Date</th>\n",
       "      <th>is_caurd</th>\n",
       "    </tr>\n",
       "  </thead>\n",
       "  <tbody>\n",
       "    <tr>\n",
       "      <th>0</th>\n",
       "      <td>Adult-Use Processor License</td>\n",
       "      <td>2024-09-12</td>\n",
       "      <td>Non-CAURD</td>\n",
       "    </tr>\n",
       "    <tr>\n",
       "      <th>1</th>\n",
       "      <td>Adult-Use Retail Dispensary License</td>\n",
       "      <td>2024-07-10</td>\n",
       "      <td>Non-CAURD</td>\n",
       "    </tr>\n",
       "    <tr>\n",
       "      <th>3</th>\n",
       "      <td>Conditional Adult-Use Retail Dispensary License</td>\n",
       "      <td>2024-08-02</td>\n",
       "      <td>CAURD</td>\n",
       "    </tr>\n",
       "    <tr>\n",
       "      <th>5</th>\n",
       "      <td>Adult-Use Retail Dispensary License</td>\n",
       "      <td>2024-06-21</td>\n",
       "      <td>Non-CAURD</td>\n",
       "    </tr>\n",
       "    <tr>\n",
       "      <th>7</th>\n",
       "      <td>Adult-Use Retail Dispensary License</td>\n",
       "      <td>2024-07-16</td>\n",
       "      <td>Non-CAURD</td>\n",
       "    </tr>\n",
       "  </tbody>\n",
       "</table>\n",
       "</div>"
      ],
      "text/plain": [
       "                                      License Type Issued Date   is_caurd\n",
       "0                      Adult-Use Processor License  2024-09-12  Non-CAURD\n",
       "1              Adult-Use Retail Dispensary License  2024-07-10  Non-CAURD\n",
       "3  Conditional Adult-Use Retail Dispensary License  2024-08-02      CAURD\n",
       "5              Adult-Use Retail Dispensary License  2024-06-21  Non-CAURD\n",
       "7              Adult-Use Retail Dispensary License  2024-07-16  Non-CAURD"
      ]
     },
     "execution_count": 43,
     "metadata": {},
     "output_type": "execute_result"
    }
   ],
   "source": [
    "df1.head()"
   ]
  },
  {
   "cell_type": "markdown",
   "id": "0b588a20",
   "metadata": {},
   "source": [
    "#### Import datetime to use for my analysis"
   ]
  },
  {
   "cell_type": "code",
   "execution_count": 49,
   "id": "4b5cf870",
   "metadata": {},
   "outputs": [],
   "source": [
    "import datetime"
   ]
  },
  {
   "cell_type": "markdown",
   "id": "4f5f90dc",
   "metadata": {},
   "source": [
    "#### Create new datetime column to use only the month and the year in my dataframe"
   ]
  },
  {
   "cell_type": "code",
   "execution_count": 50,
   "id": "020421aa",
   "metadata": {},
   "outputs": [],
   "source": [
    "df1[\"Month/Year Issued\"] = df1[\"Issued Date\"].apply(lambda x: datetime.date(x.year, x.month, 1))"
   ]
  },
  {
   "cell_type": "markdown",
   "id": "1e52f825",
   "metadata": {},
   "source": [
    "#### Create new dataset filtering the dataset to is_caurd and month/year, count number of CAURD and Non-CAURD licenses issued in each month, and unstack to turn series to dataframe"
   ]
  },
  {
   "cell_type": "code",
   "execution_count": 63,
   "id": "4b15cb05",
   "metadata": {},
   "outputs": [],
   "source": [
    "## group by is_caurd and month/year, count to create totals, unstack to turn series to dataframe\n",
    "\n",
    "df_monthly_totals = df1.groupby([\"Month/Year Issued\", \"is_caurd\"])[\"License Type\"].count().unstack()"
   ]
  },
  {
   "cell_type": "code",
   "execution_count": 65,
   "id": "c2628488",
   "metadata": {},
   "outputs": [
    {
     "data": {
      "text/html": [
       "<div>\n",
       "<style scoped>\n",
       "    .dataframe tbody tr th:only-of-type {\n",
       "        vertical-align: middle;\n",
       "    }\n",
       "\n",
       "    .dataframe tbody tr th {\n",
       "        vertical-align: top;\n",
       "    }\n",
       "\n",
       "    .dataframe thead th {\n",
       "        text-align: right;\n",
       "    }\n",
       "</style>\n",
       "<table border=\"1\" class=\"dataframe\">\n",
       "  <thead>\n",
       "    <tr style=\"text-align: right;\">\n",
       "      <th>is_caurd</th>\n",
       "      <th>CAURD</th>\n",
       "      <th>Non-CAURD</th>\n",
       "    </tr>\n",
       "    <tr>\n",
       "      <th>Month/Year Issued</th>\n",
       "      <th></th>\n",
       "      <th></th>\n",
       "    </tr>\n",
       "  </thead>\n",
       "  <tbody>\n",
       "    <tr>\n",
       "      <th>2022-12-01</th>\n",
       "      <td>1.0</td>\n",
       "      <td>NaN</td>\n",
       "    </tr>\n",
       "    <tr>\n",
       "      <th>2023-01-01</th>\n",
       "      <td>1.0</td>\n",
       "      <td>NaN</td>\n",
       "    </tr>\n",
       "    <tr>\n",
       "      <th>2023-02-01</th>\n",
       "      <td>2.0</td>\n",
       "      <td>NaN</td>\n",
       "    </tr>\n",
       "    <tr>\n",
       "      <th>2023-03-01</th>\n",
       "      <td>3.0</td>\n",
       "      <td>NaN</td>\n",
       "    </tr>\n",
       "    <tr>\n",
       "      <th>2023-04-01</th>\n",
       "      <td>1.0</td>\n",
       "      <td>NaN</td>\n",
       "    </tr>\n",
       "  </tbody>\n",
       "</table>\n",
       "</div>"
      ],
      "text/plain": [
       "is_caurd           CAURD  Non-CAURD\n",
       "Month/Year Issued                  \n",
       "2022-12-01           1.0        NaN\n",
       "2023-01-01           1.0        NaN\n",
       "2023-02-01           2.0        NaN\n",
       "2023-03-01           3.0        NaN\n",
       "2023-04-01           1.0        NaN"
      ]
     },
     "execution_count": 65,
     "metadata": {},
     "output_type": "execute_result"
    }
   ],
   "source": [
    "df_monthly_totals.head()"
   ]
  },
  {
   "cell_type": "markdown",
   "id": "80575bb8",
   "metadata": {},
   "source": [
    "#### Plot the new dataframe into a graph that demonstrates how many CAURD versus Non-CAURD licenses have been issued each month since the rollout of legal cannabis licenses"
   ]
  },
  {
   "cell_type": "code",
   "execution_count": 71,
   "id": "8757404e",
   "metadata": {},
   "outputs": [
    {
     "data": {
      "image/png": "[encoded data removed]",
      "text/plain": [
       "<Figure size 640x480 with 1 Axes>"
      ]
     },
     "metadata": {},
     "output_type": "display_data"
    }
   ],
   "source": [
    "df_monthly_totals.plot()\n",
    "plt.savefig('../output/chart.png')"
   ]
  },
  {
   "cell_type": "markdown",
   "id": "82ad7cf1",
   "metadata": {},
   "source": [
    "#### output final dataset"
   ]
  }
 ],
 "metadata": {
  "kernelspec": {
   "display_name": "Python 3 (ipykernel)",
   "language": "python",
   "name": "python3"
  },
  "language_info": {
   "codemirror_mode": {
    "name": "ipython",
    "version": 3
   },
   "file_extension": ".py",
   "mimetype": "text/x-python",
   "name": "python",
   "nbconvert_exporter": "python",
   "pygments_lexer": "ipython3",
   "version": "3.11.5"
  }
 },
 "nbformat": 4,
 "nbformat_minor": 5
}
